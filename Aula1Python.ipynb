{
  "nbformat": 4,
  "nbformat_minor": 0,
  "metadata": {
    "colab": {
      "provenance": [],
      "authorship_tag": "ABX9TyML5EyFJMhBUwH+/Y55PGNI",
      "include_colab_link": true
    },
    "kernelspec": {
      "name": "python3",
      "display_name": "Python 3"
    },
    "language_info": {
      "name": "python"
    }
  },
  "cells": [
    {
      "cell_type": "markdown",
      "metadata": {
        "id": "view-in-github",
        "colab_type": "text"
      },
      "source": [
        "<a href=\"https://colab.research.google.com/github/anajuliasamorim/estudos-python/blob/main/Aula1Python.ipynb\" target=\"_parent\"><img src=\"https://colab.research.google.com/assets/colab-badge.svg\" alt=\"Open In Colab\"/></a>"
      ]
    },
    {
      "cell_type": "code",
      "execution_count": null,
      "metadata": {
        "id": "Rkl4Fh3ak6qS"
      },
      "outputs": [],
      "source": [
        "nome= \"Ana\"\n",
        "idade = 25\n",
        "altura= 1.68"
      ]
    },
    {
      "cell_type": "code",
      "source": [
        "print(f'Olá {nome}, sua idade é {idade} anos e a altura {altura}m')"
      ],
      "metadata": {
        "colab": {
          "base_uri": "https://localhost:8080/"
        },
        "id": "B5bVbbwsnMat",
        "outputId": "87589f9b-9e8e-4efa-fd87-3a032a5df507"
      },
      "execution_count": null,
      "outputs": [
        {
          "output_type": "stream",
          "name": "stdout",
          "text": [
            "Olá Ana, sua idade é 25 anos e a altura 1.68m\n"
          ]
        }
      ]
    },
    {
      "cell_type": "code",
      "source": [
        "a,b,c = 10,20,30\n",
        "nome, idade, altura = \"Ana\", 25, 1.68\n",
        "print(nome,idade,altura)"
      ],
      "metadata": {
        "colab": {
          "base_uri": "https://localhost:8080/"
        },
        "id": "esfOqP3dnq9d",
        "outputId": "a99f2ff4-b4ab-4fa3-f63d-ccbd54d3401e"
      },
      "execution_count": null,
      "outputs": [
        {
          "output_type": "stream",
          "name": "stdout",
          "text": [
            "Ana 25 1.68\n"
          ]
        }
      ]
    },
    {
      "cell_type": "code",
      "source": [
        "print(type(idade))\n",
        "print(type(nome))\n",
        "print(type(altura))"
      ],
      "metadata": {
        "colab": {
          "base_uri": "https://localhost:8080/"
        },
        "id": "ekbj_Jqcp8ai",
        "outputId": "f529eb84-d563-4cf4-bf10-ee4e4d4f26aa"
      },
      "execution_count": null,
      "outputs": [
        {
          "output_type": "stream",
          "name": "stdout",
          "text": [
            "<class 'int'>\n",
            "<class 'str'>\n",
            "<class 'float'>\n"
          ]
        }
      ]
    },
    {
      "cell_type": "code",
      "source": [
        "x= int(\"42\")\n",
        "y= float(\"3.14\")\n",
        "z= str(42)\n",
        "print(x,y,z)"
      ],
      "metadata": {
        "colab": {
          "base_uri": "https://localhost:8080/"
        },
        "id": "ofxziYORqApz",
        "outputId": "bb191116-d1ad-48d8-ed94-3a0e33566325"
      },
      "execution_count": null,
      "outputs": [
        {
          "output_type": "stream",
          "name": "stdout",
          "text": [
            "42 3.14 42\n"
          ]
        }
      ]
    },
    {
      "cell_type": "code",
      "source": [
        "nome_produto= \"feijão\"\n",
        "idade_aluno= 14\n",
        "preco_unitario= 19.99\n",
        "print(nome_produto, idade_aluno, preco_unitario)"
      ],
      "metadata": {
        "colab": {
          "base_uri": "https://localhost:8080/"
        },
        "id": "0g650ehUr9la",
        "outputId": "5f867d74-fe96-42dc-b158-6f3827ffccf4"
      },
      "execution_count": null,
      "outputs": [
        {
          "output_type": "stream",
          "name": "stdout",
          "text": [
            "feijão 14 19.99\n"
          ]
        }
      ]
    },
    {
      "cell_type": "code",
      "source": [
        "nome= input(\"Digite seu nome:\")\n",
        "idade = int(input(\"Digite sua idade:\"))\n",
        "print(f\"Olá,{nome}! Você tem {idade} anos.\")"
      ],
      "metadata": {
        "colab": {
          "base_uri": "https://localhost:8080/"
        },
        "id": "CI-qUCQ9sVXC",
        "outputId": "1778efc4-d0b3-4eeb-8799-bc84789c645d"
      },
      "execution_count": null,
      "outputs": [
        {
          "output_type": "stream",
          "name": "stdout",
          "text": [
            "Digite seu nome:Ana\n",
            "Digite sua idade:25\n",
            "Olá,Ana! Você tem 25 anos.\n"
          ]
        }
      ]
    },
    {
      "cell_type": "code",
      "source": [
        "resultado1= 10 + 2 * 3\n",
        "resultado2= (10 + 2) * 3\n",
        "print(resultado1)\n",
        "print(resultado2)"
      ],
      "metadata": {
        "colab": {
          "base_uri": "https://localhost:8080/"
        },
        "id": "ygUjmsc50OWL",
        "outputId": "d17335c0-bc10-43c4-97ff-141a94b8dda2"
      },
      "execution_count": null,
      "outputs": [
        {
          "output_type": "stream",
          "name": "stdout",
          "text": [
            "16\n",
            "36\n"
          ]
        }
      ]
    },
    {
      "cell_type": "markdown",
      "source": [
        "**Exercícios da aula 01**\n"
      ],
      "metadata": {
        "id": "Qv6cs_Ma0sg8"
      }
    },
    {
      "cell_type": "code",
      "source": [
        "#questão02\n",
        "idade= int(input(\"Qual sua idade?\"))\n",
        "meses= idade * 12\n",
        "print(f\"Você tem {meses} meses.\")"
      ],
      "metadata": {
        "colab": {
          "base_uri": "https://localhost:8080/"
        },
        "id": "LI61ZBdy03K0",
        "outputId": "f37431ca-1b70-42f7-efc8-312a07c1a906"
      },
      "execution_count": null,
      "outputs": [
        {
          "output_type": "stream",
          "name": "stdout",
          "text": [
            "Qual sua idade?25\n",
            "Você tem 300 meses.\n"
          ]
        }
      ]
    },
    {
      "cell_type": "code",
      "source": [
        "#questão03\n",
        "num1= int(input(\"Digite o primeiro número:\"))\n",
        "num2= int(input(\"Digite o segundo número:\"))\n",
        "soma= num1 + num2\n",
        "sub= num1 - num2\n",
        "mult= num1 * num2\n",
        "div= num1 / num2\n",
        "\n",
        "print(f\"A soma de {num1} e {num2} é {soma}\")\n",
        "print(f\"A subtração de {num1} e {num2} é {sub}\")\n",
        "print(f\"A multiplicação de {num1} e {num2} é {mult}\")\n",
        "print(f\"A divisão de {num1} e {num2} é {div}\")"
      ],
      "metadata": {
        "colab": {
          "base_uri": "https://localhost:8080/"
        },
        "id": "6t72N26I14dD",
        "outputId": "e498cb27-32f5-403c-b4bd-44736f281aa3"
      },
      "execution_count": null,
      "outputs": [
        {
          "output_type": "stream",
          "name": "stdout",
          "text": [
            "Digite o primeiro número:50\n",
            "Digite o segundo número:25\n",
            "A soma de 50 e 25 é 75\n",
            "A subtração de 50 e 25 é 25\n",
            "A multiplicação de 50 e 25 é 1250\n",
            "A divisão de 50 e 25 é 2.0\n"
          ]
        }
      ]
    },
    {
      "cell_type": "code",
      "source": [
        "#questão4\n",
        "produto= float(input(\"Qual o preço do seu produto?\"))\n",
        "desconto= float(input(\"Qual o desconto desse produto(em porcentagem?\"))\n",
        "valor= produto * (1 - (desconto)/100)\n",
        "\n",
        "print(f'Olá, o valor final do seu produto é de {valor}')\n"
      ],
      "metadata": {
        "colab": {
          "base_uri": "https://localhost:8080/"
        },
        "id": "CZ7JYZOV3X9J",
        "outputId": "5f1ce452-ec1b-43da-89a3-3864aab6772f"
      },
      "execution_count": null,
      "outputs": [
        {
          "output_type": "stream",
          "name": "stdout",
          "text": [
            "Qual o preço do seu produto?100\n",
            "Qual o desconto desse produto(em porcentagem?5\n",
            "Olá, o valor final do seu produto é de 95.0\n"
          ]
        }
      ]
    },
    {
      "cell_type": "code",
      "source": [
        "#questão5\n",
        "base= float(input(\"Digite o valor da base do triângulo:\"))\n",
        "altura= float(input(\"Digite o valor da base do altura:\"))\n",
        "area= (base * altura) / 2\n",
        "\n",
        "print(f'A área desse triângulo é {area}')"
      ],
      "metadata": {
        "colab": {
          "base_uri": "https://localhost:8080/"
        },
        "id": "2u3bVsxa4REY",
        "outputId": "a3e104fe-7dcc-484a-fb28-416e9b018693"
      },
      "execution_count": null,
      "outputs": [
        {
          "output_type": "stream",
          "name": "stdout",
          "text": [
            "Digite o valor da base do triângulo:3\n",
            "Digite o valor da base do altura:5\n",
            "A área desse triângulo é 7.5\n"
          ]
        }
      ]
    },
    {
      "cell_type": "code",
      "source": [
        "#questão6\n",
        "nome= input(\"Digite seu nome:\")\n",
        "idade= int(input(\"Digite sua idade:\"))\n",
        "if(idade >= 18):\n",
        "    print(f\"O usuário é maior de idade\")\n",
        "else:\n",
        "    print(f'O usuário é menor de idade')1\n"
      ],
      "metadata": {
        "colab": {
          "base_uri": "https://localhost:8080/"
        },
        "id": "lHZqpJxo4rzg",
        "outputId": "2a36690a-420e-4137-976b-1e71338bf3a6"
      },
      "execution_count": null,
      "outputs": [
        {
          "output_type": "stream",
          "name": "stdout",
          "text": [
            "Digite seu nome:Ana\n",
            "Digite sua idade:6\n",
            "O usuário é menor de idade\n"
          ]
        }
      ]
    },
    {
      "cell_type": "code",
      "source": [
        "#questão7\n",
        "celsius= float(input(\"Digite a temperatura em Celsius:\"))\n",
        "temp= (celsius * 9/5) + 32\n",
        "\n",
        "print(f'A nova temperatura em Fahrenheit é {temp}F')"
      ],
      "metadata": {
        "colab": {
          "base_uri": "https://localhost:8080/"
        },
        "id": "PUXtj0hl6H3u",
        "outputId": "e8363e3e-f5cc-485a-c2bc-7a12c5af559c"
      },
      "execution_count": null,
      "outputs": [
        {
          "output_type": "stream",
          "name": "stdout",
          "text": [
            "Digite a temperatura em Celsius:25\n",
            "A nova temperatura em Fahrenheit é 77.0F\n"
          ]
        }
      ]
    },
    {
      "cell_type": "code",
      "source": [
        "#questao08\n",
        "num= int(input(\"Digite um número: \"))\n",
        "ant= num - 1\n",
        "suc= num + 1\n",
        "\n",
        "print(f'O antecessor de {num} é {ant}')\n",
        "print(f'O sucessor de {num} é {suc}')"
      ],
      "metadata": {
        "colab": {
          "base_uri": "https://localhost:8080/"
        },
        "id": "FiRNIVTS7GXf",
        "outputId": "b55b9a9b-4cb8-4222-d858-303e466e01e2"
      },
      "execution_count": null,
      "outputs": [
        {
          "output_type": "stream",
          "name": "stdout",
          "text": [
            "Digite um número: 100\n",
            "O antecessor de 100 é 99\n",
            "O sucessor de 100 é 101\n"
          ]
        }
      ]
    }
  ]
}